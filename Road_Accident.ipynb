{
  "nbformat": 4,
  "nbformat_minor": 0,
  "metadata": {
    "colab": {
      "provenance": [],
      "authorship_tag": "ABX9TyNdmWBz03/KIEmTZGMZGtJA",
      "include_colab_link": true
    },
    "kernelspec": {
      "name": "python3",
      "display_name": "Python 3"
    },
    "language_info": {
      "name": "python"
    }
  },
  "cells": [
    {
      "cell_type": "markdown",
      "metadata": {
        "id": "view-in-github",
        "colab_type": "text"
      },
      "source": [
        "<a href=\"https://colab.research.google.com/github/Trappyke/road_accident_data_science/blob/main/Road_Accident.ipynb\" target=\"_parent\"><img src=\"https://colab.research.google.com/assets/colab-badge.svg\" alt=\"Open In Colab\"/></a>"
      ]
    },
    {
      "cell_type": "code",
      "execution_count": null,
      "metadata": {
        "id": "HIuX4j_Vrv2p"
      },
      "outputs": [],
      "source": [
        "import os\n",
        "import pandas as pd\n",
        "from sklearn.model_selection import train_test_split\n",
        "from sklearn.linear_model import LinearRegression\n",
        "from sklearn.metrics import mean_squared_error\n",
        "import joblib\n",
        "from sklearn.preprocessing import LabelEncoder\n",
        "\n",
        "   # Check if the file exists\n",
        "if os.path.exists(\"./content/road_accident.csv\"):\n",
        "       print(\"File exists.\")\n",
        "       # Print the file content\n",
        "       with open(\"./content/road_accident.csv\", 'r') as file:\n",
        "           print(file.read())\n",
        "else:\n",
        "       print(\"File not found.\")\n",
        "\n",
        "# Load the dataset\n",
        "data = pd.read_csv(\"./content/road_accident.csv\")\n",
        "\n",
        "# Extract year, month, and day from the 'Date' column\n",
        "data['Date'] = pd.to_datetime(data['Date'])\n",
        "data['Year'] = data['Date'].dt.year\n",
        "data['Month'] = data['Date'].dt.month\n",
        "data['Day'] = data['Date'].dt.day\n",
        "data['DayOfWeek'] = data['Date'].dt.dayofweek\n",
        "\n",
        "# Drop the original 'Date' column\n",
        "data.drop(columns=['Date'], inplace=True)\n",
        "\n",
        "# Extract hours and minutes from the 'Time' column\n",
        "data['Time'] = pd.to_datetime(data['Time']).dt.hour * 60 + pd.to_datetime(data['Time']).dt.minute\n",
        "\n",
        "# Apply label encoding to the 'Location' column\n",
        "label_encoder = LabelEncoder()\n",
        "data['Location'] = label_encoder.fit_transform(data['Location'])\n",
        "\n",
        "# Perform one-hot encoding for the remaining categorical columns\n",
        "categorical_columns = ['VehicleTypes', 'Pedestrian/Cyclist', 'WeatherConditions', 'RoadConditions', 'OtherRelevantFactors']\n",
        "data = pd.get_dummies(data, columns=categorical_columns)\n",
        "\n",
        "# Apply label encoding to the 'Severity' column\n",
        "data['Severity'] = label_encoder.fit_transform(data['Severity'])\n",
        "\n",
        "# Define the dependent variable (Severity) and independent variables\n",
        "X = data.drop(columns=['Severity'])\n",
        "y = data['Severity']\n",
        "\n",
        "# Split the data into training and testing sets\n",
        "X_train, X_test, y_train, y_test = train_test_split(X, y, test_size=0.2, random_state=42)\n",
        "\n",
        "# Create a Linear Regression model\n",
        "model = LinearRegression()\n",
        "\n",
        "# Train the model\n",
        "model.fit(X_train, y_train)\n",
        "\n",
        "# Make predictions\n",
        "y_pred = model.predict(X_test)\n",
        "\n",
        "# Evaluate the model\n",
        "mse = mean_squared_error(y_test, y_pred)\n",
        "print(\"Mean Squared Error:\", mse)\n",
        "\n",
        "# Save the model for future use\n",
        "joblib.dump(model, \"accident_severity_model.pkl\")\n"
      ]
    },
    {
      "cell_type": "code",
      "source": [],
      "metadata": {
        "id": "CQH6wykYxl26"
      },
      "execution_count": null,
      "outputs": []
    }
  ]
}